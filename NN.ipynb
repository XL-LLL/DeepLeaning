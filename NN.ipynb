{
 "cells": [
  {
   "metadata": {},
   "cell_type": "raw",
   "source": "",
   "id": "bea9c8bd5fa98b8e"
  }
 ],
 "metadata": {},
 "nbformat": 5,
 "nbformat_minor": 9
}
